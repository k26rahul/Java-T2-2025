{
 "cells": [
  {
   "cell_type": "code",
   "execution_count": 3,
   "id": "f4de7437",
   "metadata": {},
   "outputs": [
    {
     "data": {
      "text/plain": [
       "10"
      ]
     },
     "execution_count": 3,
     "metadata": {},
     "output_type": "execute_result"
    }
   ],
   "source": [
    "class Box {\n",
    "  private int item;\n",
    "\n",
    "  int getItem() {\n",
    "    return item;\n",
    "  }\n",
    "\n",
    "  void setItem(int item) {\n",
    "    this.item = item;\n",
    "  }\n",
    "}\n",
    "\n",
    "Box box = new Box();\n",
    "box.setItem(10);\n",
    "box.getItem();"
   ]
  },
  {
   "cell_type": "code",
   "execution_count": 6,
   "id": "d91507fe",
   "metadata": {},
   "outputs": [
    {
     "name": "stdout",
     "output_type": "stream",
     "text": [
      "10\n",
      "Star\n"
     ]
    }
   ],
   "source": [
    "class IntBox {\n",
    "  private int item;\n",
    "\n",
    "  int getItem() {\n",
    "    return item;\n",
    "  }\n",
    "\n",
    "  void setItem(int item) {\n",
    "    this.item = item;\n",
    "  }\n",
    "}\n",
    "\n",
    "class StringBox {\n",
    "  private String item;\n",
    "\n",
    "  String getItem() {\n",
    "    return item;\n",
    "  }\n",
    "\n",
    "  void setItem(String item) {\n",
    "    this.item = item;\n",
    "  }\n",
    "}\n",
    "\n",
    "IntBox box = new IntBox();\n",
    "box.setItem(10);\n",
    "System.out.println(box.getItem());\n",
    "\n",
    "StringBox box2 = new StringBox();\n",
    "box2.setItem(\"Star\");\n",
    "System.out.println(box2.getItem());"
   ]
  },
  {
   "cell_type": "code",
   "execution_count": 11,
   "id": "5a3bee0c",
   "metadata": {},
   "outputs": [],
   "source": [
    "class Box<T> {\n",
    "  private T item;\n",
    "\n",
    "  T getItem() {\n",
    "    return item;\n",
    "  }\n",
    "\n",
    "  void setItem(T item) {\n",
    "    this.item = item;\n",
    "  }\n",
    "}\n",
    "\n",
    "Box<Integer> box1 = new Box<>();\n",
    "Box<Boolean> box2 = new Box<>();\n",
    "\n",
    "box1.setItem(10);\n",
    "box2.setItem(false);\n",
    "// box2.setItem(\"Star\");"
   ]
  },
  {
   "cell_type": "code",
   "execution_count": 18,
   "id": "410ca604",
   "metadata": {},
   "outputs": [
    {
     "name": "stdout",
     "output_type": "stream",
     "text": [
      "hello Star\n",
      "hello 10\n"
     ]
    }
   ],
   "source": [
    "class Util {\n",
    "  static <T> void sayHello(T item) {\n",
    "    System.out.println(\"hello \" + item);\n",
    "  }\n",
    "}\n",
    "\n",
    "Util.sayHello(\"Star\");\n",
    "Util.sayHello(10);"
   ]
  },
  {
   "cell_type": "code",
   "execution_count": 26,
   "id": "5d816cc1",
   "metadata": {},
   "outputs": [],
   "source": [
    "List list = new ArrayList();\n",
    "\n",
    "list.add(\"Star\");\n",
    "list.add(10);\n",
    "\n",
    "String msg = (String) list.get(0);"
   ]
  }
 ],
 "metadata": {
  "kernelspec": {
   "display_name": "Java",
   "language": "java",
   "name": "java"
  },
  "language_info": {
   "codemirror_mode": "java",
   "file_extension": ".jshell",
   "mimetype": "text/x-java-source",
   "name": "java",
   "pygments_lexer": "java",
   "version": "21.0.7+8-LTS-245"
  }
 },
 "nbformat": 4,
 "nbformat_minor": 5
}
