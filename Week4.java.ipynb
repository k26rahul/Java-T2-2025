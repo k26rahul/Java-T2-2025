{
 "cells": [
  {
   "cell_type": "code",
   "execution_count": null,
   "id": "42859da7",
   "metadata": {
    "vscode": {
     "languageId": "java"
    }
   },
   "outputs": [],
   "source": [
    "class Bank {\n",
    "  private class Account {}\n",
    "\n",
    "  void makeAccount() {\n",
    "    Account acc = new Account();\n",
    "  }\n",
    "}\n",
    "\n",
    "Bank bank = new Bank();"
   ]
  },
  {
   "cell_type": "code",
   "execution_count": null,
   "id": "dcc51f94",
   "metadata": {
    "vscode": {
     "languageId": "java"
    }
   },
   "outputs": [],
   "source": [
    "if (\"hello\" instanceof String) {\n",
    "  \n",
    "}"
   ]
  },
  {
   "cell_type": "code",
   "execution_count": null,
   "id": "6ae6a792",
   "metadata": {
    "vscode": {
     "languageId": "java"
    }
   },
   "outputs": [],
   "source": [
    "class Student {\n",
    "  int marks = 90;\n",
    "\n",
    "  // static void test() {\n",
    "  //   // System.out.println(this.marks);\n",
    "  //   System.out.println(marks);\n",
    "  // }\n",
    "}\n",
    "\n",
    "// Student.test();\n",
    "// new Student().test();\n",
    "\n",
    "Student.marks"
   ]
  },
  {
   "cell_type": "code",
   "execution_count": null,
   "id": "bdbded2f",
   "metadata": {
    "vscode": {
     "languageId": "java"
    }
   },
   "outputs": [],
   "source": [
    "class Student {\n",
    "\n",
    "}\n",
    "\n",
    "Student vidu = new Student();"
   ]
  },
  {
   "cell_type": "code",
   "execution_count": null,
   "id": "095ac0a8",
   "metadata": {
    "vscode": {
     "languageId": "java"
    }
   },
   "outputs": [],
   "source": [
    "class Bank {\n",
    "  static class Account {\n",
    "\n",
    "  }\n",
    "}\n",
    "\n",
    "Bank bank = new Bank();\n",
    "Bank.Account acc = new Bank.Account(); // static\n",
    "// Bank.Account acc = bank.new Account(); // non static"
   ]
  },
  {
   "cell_type": "code",
   "execution_count": null,
   "id": "625121a1",
   "metadata": {
    "vscode": {
     "languageId": "java"
    }
   },
   "outputs": [],
   "source": [
    "class Student {\n",
    "  private String name;\n",
    "  private int salary;\n",
    "\n",
    "  Student(String name, int salary) {\n",
    "    this.name = name;\n",
    "    this.salary = salary;\n",
    "  }\n",
    "\n",
    "  String getName() {\n",
    "    return \"Student: \" + name;\n",
    "  }\n",
    "\n",
    "  void setName(String name) {\n",
    "    if (name.length() <= 5) {\n",
    "      this.name = name;\n",
    "    } else {\n",
    "      throw new IllegalArgumentException(\"hey bhagwan, 5 letter ka nam do\");\n",
    "    }\n",
    "  }\n",
    "}\n",
    "\n",
    "Student vidu = new Student(\"vidu\", 10000);\n",
    "\n",
    "vidu.setName(\"rahul\");\n",
    "vidu.getName();"
   ]
  },
  {
   "cell_type": "code",
   "execution_count": null,
   "id": "8f328647",
   "metadata": {
    "vscode": {
     "languageId": "java"
    }
   },
   "outputs": [],
   "source": [
    "int[] arr = new int[] {10, 20, 30};\n",
    "\n",
    "for (int elem : arr) {\n",
    "  System.out.println(elem);\n",
    "}"
   ]
  },
  {
   "cell_type": "code",
   "execution_count": null,
   "id": "85d4406b",
   "metadata": {
    "vscode": {
     "languageId": "java"
    }
   },
   "outputs": [],
   "source": [
    "List<String> fruits = new ArrayList<>();\n",
    "fruits.add(\"apple\");\n",
    "fruits.add(\"banana\");\n",
    "fruits.add(\"kiwi\");\n",
    "\n",
    "Iterator<String> itr = fruits.iterator();\n",
    "\n",
    "while (itr.hasNext()) {\n",
    "  System.out.println(itr.next());\n",
    "}"
   ]
  },
  {
   "cell_type": "code",
   "execution_count": null,
   "id": "cac50bd4",
   "metadata": {
    "vscode": {
     "languageId": "java"
    }
   },
   "outputs": [],
   "source": [
    "class Account {\n",
    "  String holderName;\n",
    "  int balance;\n",
    "\n",
    "  Account(String holderName, int balance) {\n",
    "    this.holderName = holderName;\n",
    "    this.balance = balance;\n",
    "  }\n",
    "}\n",
    "\n",
    "class Bank implements Iterable<Account> {\n",
    "  List<Account> accounts = new ArrayList<>();\n",
    "\n",
    "  void makeAccount(String name, int balance, String docs) {\n",
    "    if (docs == \"kyc valid\") {\n",
    "      Account acc = new Account(name, balance);\n",
    "      accounts.add(acc);\n",
    "    }\n",
    "  }\n",
    "\n",
    "  public Iterator<Account> iterator() {\n",
    "    return accounts.iterator();\n",
    "  }\n",
    "}\n",
    "\n",
    "Bank sbi = new Bank();\n",
    "sbi.makeAccount(\"vidu\", 10, \"kyc valid\");\n",
    "sbi.makeAccount(\"paru\", 90, \"kyc valid\");\n",
    "sbi.makeAccount(\"rahul\", 900, \"kyc valid\");\n",
    "\n",
    "// print name, balance of customers\n",
    "for (Account acc : sbi) {\n",
    "  System.out.println(acc.holderName + \", \" + acc.balance);\n",
    "}"
   ]
  },
  {
   "cell_type": "code",
   "execution_count": null,
   "id": "f804855b",
   "metadata": {
    "vscode": {
     "languageId": "java"
    }
   },
   "outputs": [],
   "source": [
    "class FruitsIterator implements Iterator<String> {\n",
    "  String[] fruits = new String[]{\"apple\", \"banana\", \"kiwi\"};\n",
    "  int index = 0;\n",
    "\n",
    "  public boolean hasNext() {\n",
    "    if (index < fruits.length) {\n",
    "      return true;\n",
    "    }\n",
    "    return false;\n",
    "  }\n",
    "\n",
    "  public String next() {\n",
    "    return fruits[index++];\n",
    "  }\n",
    "}\n",
    "\n",
    "class Shop implements Iterable<String> {\n",
    "  public Iterator<String> iterator() {\n",
    "    return new FruitsIterator();\n",
    "  }\n",
    "}\n",
    "\n",
    "Shop shop = new Shop();\n",
    "\n",
    "// Iterator<String> itr = shop.iterator();\n",
    "// while (itr.hasNext()) {\n",
    "//   System.out.println(itr.next());\n",
    "// }\n",
    "\n",
    "for (String fruit : shop) {\n",
    "  System.out.println(fruit);\n",
    "}"
   ]
  },
  {
   "cell_type": "code",
   "execution_count": null,
   "id": "cea6521e",
   "metadata": {
    "vscode": {
     "languageId": "java"
    }
   },
   "outputs": [],
   "source": [
    "class Student {\n",
    "  String name;\n",
    "\n",
    "  Student(String name) {\n",
    "    this.name = name;\n",
    "  }\n",
    "}\n",
    "\n",
    "class School implements Iterable<Student> {\n",
    "  List<Student> students = new ArrayList<>();\n",
    "\n",
    "  void addStudent(String name) {\n",
    "    students.add(new Student(name));\n",
    "  }\n",
    "\n",
    "  public Iterator<Student> iterator() {\n",
    "    return students.iterator();\n",
    "  }\n",
    "}\n",
    "\n",
    "School rvk = new School();\n",
    "rvk.addStudent(\"vidu\");\n",
    "rvk.addStudent(\"paru\");\n",
    "rvk.addStudent(\"rahul\");\n",
    "\n",
    "for (Student student : rvk) {\n",
    "  System.out.println(student.name);\n",
    "}"
   ]
  },
  {
   "cell_type": "code",
   "execution_count": null,
   "id": "1637368d",
   "metadata": {
    "vscode": {
     "languageId": "java"
    }
   },
   "outputs": [],
   "source": [
    "public interface A {\n",
    "    int a; // initialization required\n",
    "}"
   ]
  },
  {
   "cell_type": "code",
   "execution_count": null,
   "id": "ede30bc3",
   "metadata": {
    "vscode": {
     "languageId": "java"
    }
   },
   "outputs": [],
   "source": [
    "interface Student {\n",
    "  abstract int getMarks();\n",
    "  default void readBook() {\n",
    "  }\n",
    "}\n",
    "\n",
    "abstract class Animal {\n",
    "  abstract void sleep();\n",
    "  void eat() {\n",
    "  }\n",
    "}\n",
    "\n",
    "class Human extends Animal implements Cloneable, Iterable<String> {\n",
    "  void sleep() {}\n",
    "  public Iterator<String> iterator() {\n",
    "    return new ArrayList().iterator();\n",
    "  }\n",
    "}"
   ]
  },
  {
   "cell_type": "code",
   "execution_count": null,
   "id": "68ec9bed",
   "metadata": {
    "vscode": {
     "languageId": "java"
    }
   },
   "outputs": [],
   "source": [
    "public interface A {\n",
    "    int a = 10; // initialization required\n",
    "}\n",
    "\n",
    "// A.a = 20;"
   ]
  },
  {
   "cell_type": "code",
   "execution_count": null,
   "id": "cbfbd8ea",
   "metadata": {
    "vscode": {
     "languageId": "java"
    }
   },
   "outputs": [],
   "source": [
    "interface Gamma {\n",
    "  void eat();\n",
    "}\n",
    "\n",
    "abstract class Sigma {\n",
    "  abstract void eat();\n",
    "}"
   ]
  },
  {
   "cell_type": "code",
   "execution_count": null,
   "id": "cdefd0c3",
   "metadata": {
    "vscode": {
     "languageId": "java"
    }
   },
   "outputs": [],
   "source": [
    "class Animal {\n",
    "  int salary = 10;\n",
    "  class Human {}\n",
    "}\n",
    "\n",
    "Animal myAnimal = new Animal();\n",
    "myAnimal.new Human();\n",
    "\n",
    "// new Animal.Human(); // static\n",
    "// new Animal().new Human(); // non static"
   ]
  },
  {
   "cell_type": "code",
   "execution_count": null,
   "id": "8b9f9ee9",
   "metadata": {
    "vscode": {
     "languageId": "java"
    }
   },
   "outputs": [],
   "source": [
    "class Animal {\n",
    "  int salary = 90;\n",
    "\n",
    "  void makeHuman() {\n",
    "    int x = salary;\n",
    "  }\n",
    "}\n",
    "\n",
    "new Animal().makeHuman()"
   ]
  },
  {
   "cell_type": "code",
   "execution_count": 2,
   "id": "1a6cd3e2",
   "metadata": {
    "vscode": {
     "languageId": "java"
    }
   },
   "outputs": [
    {
     "name": "stdout",
     "output_type": "stream",
     "text": [
      "cutie is saying ahh, oow, auu\n",
      "cutie is saying ahh, oow, auu\n",
      "cutie is saying ahh, oow, auu\n",
      "cutie is saying ahh, oow, auu\n",
      "cutie is saying ahh, oow, auu\n",
      "cutie is saying ahh, oow, auu\n"
     ]
    }
   ],
   "source": [
    "class Baby {\n",
    "  String name = \"cutie\";\n",
    "\n",
    "  void cry() {\n",
    "    int i = 5;\n",
    "\n",
    "    class Hunger {\n",
    "\n",
    "    }\n",
    "\n",
    "    while (i++ <= 10) {\n",
    "      String sound = \"ahh, oow, auu\";\n",
    "      new Hunger();\n",
    "      System.out.println(name + \" is saying \" + sound);\n",
    "    }\n",
    "  }\n",
    "}\n",
    "\n",
    "new Baby().cry()"
   ]
  }
 ],
 "metadata": {
  "kernelspec": {
   "display_name": "Java",
   "language": "java",
   "name": "java"
  },
  "language_info": {
   "codemirror_mode": "java",
   "file_extension": ".jshell",
   "mimetype": "text/x-java-source",
   "name": "Java",
   "pygments_lexer": "java",
   "version": "21.0.7+8-LTS-245"
  }
 },
 "nbformat": 4,
 "nbformat_minor": 5
}
