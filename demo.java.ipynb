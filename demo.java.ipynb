{
 "cells": [
  {
   "cell_type": "code",
   "execution_count": 1,
   "id": "d64a9cef",
   "metadata": {},
   "outputs": [
    {
     "name": "stdout",
     "output_type": "stream",
     "text": [
      "hello vidu\n"
     ]
    }
   ],
   "source": [
    "System.out.println(\"hello vidu\");"
   ]
  },
  {
   "cell_type": "code",
   "execution_count": 4,
   "id": "a77057aa",
   "metadata": {},
   "outputs": [
    {
     "name": "stdout",
     "output_type": "stream",
     "text": [
      "flying\n",
      "sleeping\n",
      "sleeping\n"
     ]
    }
   ],
   "source": [
    "class Bird {\n",
    "  static void fly() {\n",
    "    System.out.println(\"flying\");\n",
    "  }\n",
    "\n",
    "  void sleep() {\n",
    "    System.out.println(\"sleeping\");\n",
    "  }\n",
    "}\n",
    "\n",
    "Bird.fly();\n",
    "Bird parrot = new Bird();\n",
    "parrot.sleep();\n",
    "new Bird().sleep();"
   ]
  },
  {
   "cell_type": "code",
   "execution_count": 4,
   "id": "33d1cdc3",
   "metadata": {},
   "outputs": [
    {
     "name": "stdout",
     "output_type": "stream",
     "text": [
      "alien 99\n"
     ]
    }
   ],
   "source": [
    "class Employee {\n",
    "  String name;\n",
    "  int age;\n",
    "\n",
    "  Employee() {\n",
    "    name = \"alien\";\n",
    "    age = 99;\n",
    "  }\n",
    "\n",
    "  Employee(String name, int age) {\n",
    "    this.name = name;\n",
    "    this.age = age;\n",
    "  }\n",
    "\n",
    "  Employee(String name) {\n",
    "    this.name = name;\n",
    "  }\n",
    "}\n",
    "\n",
    "Employee vidu = new Employee(\"vidu\");\n",
    "Employee nobody = new Employee();\n",
    "Employee rahul = new Employee(\"rahul\", 22);\n",
    "\n",
    "System.out.println(nobody.name + \" \" + nobody.age);"
   ]
  },
  {
   "cell_type": "code",
   "execution_count": 26,
   "id": "ca41c338",
   "metadata": {},
   "outputs": [
    {
     "name": "stdout",
     "output_type": "stream",
     "text": [
      "zulian 22\n",
      "rahul 22\n"
     ]
    }
   ],
   "source": [
    "class Employee {\n",
    "  String name;\n",
    "  int age;\n",
    "\n",
    "  Employee(String name, int age) {\n",
    "    this.name = name;\n",
    "    this.age = age;\n",
    "  }\n",
    "\n",
    "  // copy constructor\n",
    "  Employee(Employee employee) {\n",
    "    this.name = employee.name;\n",
    "    this.age = employee.age;\n",
    "  }\n",
    "}\n",
    "\n",
    "Employee rahul = new Employee(\"rahul\", 22);\n",
    "Employee xyz = new Employee(rahul);\n",
    "\n",
    "xyz.name = \"zulian\";\n",
    "\n",
    "System.out.println(xyz.name + \" \" + xyz.age);\n",
    "System.out.println(rahul.name + \" \" + rahul.age);"
   ]
  },
  {
   "cell_type": "code",
   "execution_count": null,
   "id": "956c9179",
   "metadata": {},
   "outputs": [
    {
     "name": "stdout",
     "output_type": "stream",
     "text": [
      "[Ljava.lang.String;@7ebb62fd\n",
      "[Ljava.lang.String;@40b6f2f1\n"
     ]
    }
   ],
   "source": [
    "class Employee {\n",
    "  String name;\n",
    "  int age;\n",
    "  String[] favFoods;\n",
    "\n",
    "  Employee(String name, int age, String[] favFoods) {\n",
    "    this.name = name;\n",
    "    this.age = age;\n",
    "    this.favFoods = favFoods;\n",
    "  }\n",
    "\n",
    "  Employee(String name, int age, Employee employee) {\n",
    "    this.name = name;\n",
    "    this.age = age;\n",
    "    this.favFoods = employee.favFoods.clone();\n",
    "  }\n",
    "}\n",
    "\n",
    "Employee rahul = new Employee(\"rahul\", 22, new String[]{\"idli\", \"dosa\"});\n",
    "Employee vidu = new Employee(\"vidu\", 21, rahul);\n",
    "\n",
    "System.out.println(rahul.favFoods);\n",
    "System.out.println(vidu.favFoods);"
   ]
  },
  {
   "cell_type": "code",
   "execution_count": 14,
   "id": "8ea03e5e",
   "metadata": {},
   "outputs": [
    {
     "data": {
      "text/plain": [
       "[Ljava.lang.String;@2cd824ed"
      ]
     },
     "execution_count": 14,
     "metadata": {},
     "output_type": "execute_result"
    }
   ],
   "source": [
    "new String[]{ \"idli\", \"dosa\" }"
   ]
  },
  {
   "cell_type": "code",
   "execution_count": 18,
   "id": "f7da8d2a",
   "metadata": {},
   "outputs": [
    {
     "ename": "CompilationException",
     "evalue": "",
     "output_type": "error",
     "traceback": [
      "\u001b[1m\u001b[30m|   \u001b[1m\u001b[30m  System.out.println(\u001b[0m\u001b[1m\u001b[30m\u001b[41mage\u001b[0m\u001b[1m\u001b[30m);\u001b[0m",
      "\u001b[1m\u001b[31mvariable age might not have been initialized\u001b[0m",
      ""
     ]
    }
   ],
   "source": [
    "void greet() {\n",
    "  int age;\n",
    "  System.out.println(age);\n",
    "}\n",
    "\n",
    "greet();"
   ]
  }
 ],
 "metadata": {
  "kernelspec": {
   "display_name": "Java",
   "language": "java",
   "name": "java"
  },
  "language_info": {
   "codemirror_mode": "java",
   "file_extension": ".jshell",
   "mimetype": "text/x-java-source",
   "name": "java",
   "pygments_lexer": "java",
   "version": "21.0.7+8-LTS-245"
  }
 },
 "nbformat": 4,
 "nbformat_minor": 5
}
