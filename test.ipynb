{
 "cells": [
  {
   "cell_type": "code",
   "execution_count": 18,
   "id": "8199f3b7",
   "metadata": {},
   "outputs": [
    {
     "data": {
      "text/plain": [
       "5.148000000000001"
      ]
     },
     "execution_count": 18,
     "metadata": {},
     "output_type": "execute_result"
    }
   ],
   "source": [
    "X = [\n",
    "    [-1, 1, -1],\n",
    "    [1, 2, 1],\n",
    "    [1, 1, -1],\n",
    "    [1, -1, 2],\n",
    "    [0, 1, 3],\n",
    "]\n",
    "\n",
    "\n",
    "def encoder(x):\n",
    "  return x[0] - x[1] + 0.5*x[2]\n",
    "\n",
    "\n",
    "def decoder(u):\n",
    "  return [0.3*u, -u, u]\n",
    "\n",
    "\n",
    "X_encoded = [encoder(x) for x in X]\n",
    "X_decoded = [decoder(u) for u in X_encoded]\n",
    "\n",
    "loss = 0\n",
    "for i in range(len(X)):\n",
    "  x1, x2, x3 = X[i]\n",
    "  x1_, x2_, x3_ = X_decoded[i]\n",
    "  loss += (x1-x1_)**2 + (x2-x2_)**2 + (x3-x3_)**2\n",
    "\n",
    "loss / len(X)"
   ]
  }
 ],
 "metadata": {
  "kernelspec": {
   "display_name": "Python 3",
   "language": "python",
   "name": "python3"
  },
  "language_info": {
   "codemirror_mode": {
    "name": "ipython",
    "version": 3
   },
   "file_extension": ".py",
   "mimetype": "text/x-python",
   "name": "python",
   "nbconvert_exporter": "python",
   "pygments_lexer": "ipython3",
   "version": "3.13.3"
  }
 },
 "nbformat": 4,
 "nbformat_minor": 5
}
