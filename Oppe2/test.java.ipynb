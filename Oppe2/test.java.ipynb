{
 "cells": [
  {
   "cell_type": "code",
   "execution_count": 5,
   "id": "a7d8d296",
   "metadata": {
    "vscode": {
     "languageId": "java"
    }
   },
   "outputs": [],
   "source": [
    "String name = \"vidu\";\n",
    "int age;\n",
    "age = 20;"
   ]
  },
  {
   "cell_type": "code",
   "execution_count": 17,
   "id": "0f6de287",
   "metadata": {
    "vscode": {
     "languageId": "java"
    }
   },
   "outputs": [
    {
     "name": "stdout",
     "output_type": "stream",
     "text": [
      "apple\n",
      "null\n",
      "null\n",
      "null\n",
      "banana\n"
     ]
    }
   ],
   "source": [
    "String[] fruits = new String[5];\n",
    "fruits[0] = \"apple\";\n",
    "fruits[4] = \"banana\";\n",
    "\n",
    "// for (int i = 0; i < fruits.length; i++) {\n",
    "//   System.out.println(fruits[i]);\n",
    "// }\n",
    "\n",
    "for (String fruit : fruits) {\n",
    "  System.out.println(fruit);\n",
    "}"
   ]
  },
  {
   "cell_type": "code",
   "execution_count": 34,
   "id": "5b8f7292",
   "metadata": {
    "vscode": {
     "languageId": "java"
    }
   },
   "outputs": [
    {
     "name": "stdout",
     "output_type": "stream",
     "text": [
      "apple is my fav fruit and im 20 yo\n"
     ]
    }
   ],
   "source": [
    "System.out.println(String.format(\"%s is my fav fruit and im %d yo\", \"apple\", 20));"
   ]
  },
  {
   "cell_type": "code",
   "execution_count": 36,
   "id": "d778be5c",
   "metadata": {
    "vscode": {
     "languageId": "java"
    }
   },
   "outputs": [],
   "source": [
    "String[] animals = new String[]{\"cat\", \"dog\", \"cow\"}"
   ]
  },
  {
   "cell_type": "code",
   "execution_count": 58,
   "id": "bdb50347",
   "metadata": {
    "vscode": {
     "languageId": "java"
    }
   },
   "outputs": [],
   "source": [
    "class Student {\n",
    "  String name;\n",
    "\n",
    "  Student(String name) {\n",
    "    this.name = name;\n",
    "  }\n",
    "}\n",
    "\n",
    "Student somebody = new Student(\"rahul\");"
   ]
  },
  {
   "cell_type": "code",
   "execution_count": 72,
   "id": "0a80f99f",
   "metadata": {
    "vscode": {
     "languageId": "java"
    }
   },
   "outputs": [
    {
     "name": "stdout",
     "output_type": "stream",
     "text": [
      "some human is sleeping\n",
      "vidu employee is sleeping\n"
     ]
    }
   ],
   "source": [
    "class Human {\n",
    "  String name;\n",
    "  int age;\n",
    "\n",
    "  Human(String name, int age) {\n",
    "    this.name = name;\n",
    "    this.age = age;\n",
    "  }\n",
    "\n",
    "  void sleep() {\n",
    "    System.out.println(\"some human is sleeping\");\n",
    "  }\n",
    "}\n",
    "\n",
    "class Employee extends Human {\n",
    "  int salary;\n",
    "\n",
    "  Employee(String name, int age, int salary) {\n",
    "    super(name, age);\n",
    "    this.salary = salary;\n",
    "  }\n",
    "\n",
    "  void sleep() {\n",
    "    super.sleep();\n",
    "    System.out.println(name + \" employee is sleeping\");\n",
    "  }\n",
    "}\n",
    "\n",
    "Employee vidu = new Employee(\"vidu\", 22, 10000);\n",
    "vidu.sleep();"
   ]
  },
  {
   "cell_type": "code",
   "execution_count": 93,
   "id": "374094a6",
   "metadata": {
    "vscode": {
     "languageId": "java"
    }
   },
   "outputs": [
    {
     "data": {
      "text/plain": [
       "vidu"
      ]
     },
     "execution_count": 93,
     "metadata": {},
     "output_type": "execute_result"
    }
   ],
   "source": [
    "class Employee {\n",
    "  String name;\n",
    "  int salary;\n",
    "\n",
    "  // fresh\n",
    "  Employee(String name, int salary) {\n",
    "    this.name = name;\n",
    "    this.salary = salary;\n",
    "  }\n",
    "\n",
    "  // copy constructor\n",
    "  Employee(Employee employee) {\n",
    "    this.name = employee.name;\n",
    "    this.salary = employee.salary * 2;\n",
    "  }\n",
    "}\n",
    "\n",
    "Employee favEmployee = new Employee(\"vidu\", 10000);\n",
    "Employee somebody = new Employee(favEmployee);\n",
    "\n",
    "somebody.name = \"harikesh\";\n",
    "favEmployee.name;"
   ]
  },
  {
   "cell_type": "code",
   "execution_count": 101,
   "id": "3cc25cc5",
   "metadata": {
    "vscode": {
     "languageId": "java"
    }
   },
   "outputs": [
    {
     "name": "stdout",
     "output_type": "stream",
     "text": [
      "alien\n",
      "alien\n"
     ]
    }
   ],
   "source": [
    "class Student {\n",
    "  String name = \"alien\";\n",
    "}\n",
    "\n",
    "Student vidu = new Student();\n",
    "Student rahul = new Student();\n",
    "\n",
    "System.out.println(vidu.name);\n",
    "System.out.println(rahul.name);"
   ]
  },
  {
   "cell_type": "code",
   "execution_count": 4,
   "id": "b5e3b185",
   "metadata": {
    "vscode": {
     "languageId": "java"
    }
   },
   "outputs": [],
   "source": [
    "double age = 52.5;\n",
    "int myAge = (int) age;"
   ]
  },
  {
   "cell_type": "code",
   "execution_count": 8,
   "id": "a946a7e3",
   "metadata": {
    "vscode": {
     "languageId": "java"
    }
   },
   "outputs": [
    {
     "data": {
      "text/plain": [
       "100"
      ]
     },
     "execution_count": 8,
     "metadata": {},
     "output_type": "execute_result"
    }
   ],
   "source": [
    "(int) Math.pow(10, 2)"
   ]
  },
  {
   "cell_type": "code",
   "execution_count": 25,
   "id": "c2f88de2",
   "metadata": {
    "vscode": {
     "languageId": "java"
    }
   },
   "outputs": [],
   "source": [
    "class Human {\n",
    "  void sleep() {}\n",
    "  static void eat() {}\n",
    "}\n",
    "\n",
    "class Employee extends Human {\n",
    "  void giveSalary() {}\n",
    "}\n",
    "\n",
    "Human vidu = new Employee();\n",
    "Human.eat()"
   ]
  },
  {
   "cell_type": "code",
   "execution_count": 49,
   "id": "e4a0458e",
   "metadata": {
    "vscode": {
     "languageId": "java"
    }
   },
   "outputs": [],
   "source": [
    "interface Printable {\n",
    "  public abstract void print(int pages);\n",
    "  public default void colorPrint(int pages, String color) {\n",
    "    \n",
    "  }\n",
    "}\n",
    "\n",
    "class Notebook implements Printable {\n",
    "  public void print(int pages) {}\n",
    "  public void read() {}\n",
    "}"
   ]
  },
  {
   "cell_type": "code",
   "execution_count": 54,
   "id": "9e5604ab",
   "metadata": {
    "vscode": {
     "languageId": "java"
    }
   },
   "outputs": [],
   "source": [
    "Notebook abc = new Notebook();\n",
    "abc.print(5);"
   ]
  },
  {
   "cell_type": "code",
   "execution_count": 67,
   "id": "33a46e44",
   "metadata": {
    "vscode": {
     "languageId": "java"
    }
   },
   "outputs": [
    {
     "name": "stdout",
     "output_type": "stream",
     "text": [
      "i am vidu, my age is 22, my weight is 45\n"
     ]
    }
   ],
   "source": [
    "class Student {\n",
    "  String name = \"vidu\";\n",
    "  int age = 22;\n",
    "  double weight = 45.5;\n",
    "\n",
    "  String intro() {\n",
    "    return String.format(\"i am %s, my age is %d, my weight is %d\", name, age, ((int)weight));\n",
    "  }\n",
    "}\n",
    "\n",
    "System.out.println(new Student().intro())"
   ]
  },
  {
   "cell_type": "code",
   "execution_count": 70,
   "id": "9422cc3f",
   "metadata": {
    "vscode": {
     "languageId": "java"
    }
   },
   "outputs": [
    {
     "name": "stdout",
     "output_type": "stream",
     "text": [
      "52\n",
      "52.0\n"
     ]
    }
   ],
   "source": [
    "String num = \"52\";\n",
    "System.out.println(Integer.parseInt(num));\n",
    "System.out.println(Double.parseDouble(num));"
   ]
  },
  {
   "cell_type": "code",
   "execution_count": 80,
   "id": "e8dae0bb",
   "metadata": {
    "vscode": {
     "languageId": "java"
    }
   },
   "outputs": [
    {
     "name": "stdout",
     "output_type": "stream",
     "text": [
      "[a, p, p, l, e]\n"
     ]
    }
   ],
   "source": [
    "import java.util.*;\n",
    "\n",
    "String word = \"apple\";\n",
    "\n",
    "System.out.println(Arrays.toString((word.toCharArray())));\n",
    "\n",
    "// for (int i = 0; i < word.length(); i++) {\n",
    "//   System.out.println(word.charAt(i));\n",
    "// }\n",
    "\n",
    "// for (char c : word.toCharArray()) {\n",
    "//   System.out.println(c);\n",
    "// }"
   ]
  },
  {
   "cell_type": "code",
   "execution_count": 85,
   "id": "8e01edb9",
   "metadata": {
    "vscode": {
     "languageId": "java"
    }
   },
   "outputs": [
    {
     "name": "stdout",
     "output_type": "stream",
     "text": [
      "false\n"
     ]
    }
   ],
   "source": [
    "Map<String, Integer> fruits = new HashMap<>();\n",
    "\n",
    "fruits.put(\"apple\", 50);\n",
    "fruits.put(\"apple\", fruits.get(\"apple\") + 90);\n",
    "\n",
    "// System.out.println(fruits.get(\"apple\"));\n",
    "System.out.println(fruits.containsKey(\"banana\"));"
   ]
  },
  {
   "cell_type": "code",
   "execution_count": 93,
   "id": "5b580fd0",
   "metadata": {
    "vscode": {
     "languageId": "java"
    }
   },
   "outputs": [
    {
     "data": {
      "text/plain": [
       "true"
      ]
     },
     "execution_count": 93,
     "metadata": {},
     "output_type": "execute_result"
    }
   ],
   "source": [
    "class Stock {\n",
    "  String name;\n",
    "  int qty;\n",
    "\n",
    "  Stock(String name, int qty) {\n",
    "    this.name= name;\n",
    "    this.qty= qty;\n",
    "  }\n",
    "}\n",
    "\n",
    "ArrayList<Stock> warehouse = new ArrayList<>();\n",
    "\n",
    "warehouse.add(new Stock(\"apple\", 50));\n",
    "warehouse.add(new Stock(\"banana\", 10));\n",
    "warehouse.add(new Stock(\"apple\", 20));\n",
    "warehouse.add(new Stock(\"kiwi\", 50));\n",
    "warehouse.add(new Stock(\"kiwi\", 50));"
   ]
  },
  {
   "cell_type": "code",
   "execution_count": 95,
   "id": "4a8aa025",
   "metadata": {
    "vscode": {
     "languageId": "java"
    }
   },
   "outputs": [
    {
     "name": "stdout",
     "output_type": "stream",
     "text": [
      "kiwi\n",
      "100\n"
     ]
    }
   ],
   "source": [
    "Map<String, Integer> freq = new HashMap<>();\n",
    "\n",
    "String maxName = \"\";\n",
    "int maxQty = 0;\n",
    "\n",
    "for (Stock stock : warehouse) {\n",
    "  String name = stock.name;\n",
    "  int qty = stock.qty;\n",
    "\n",
    "  if (freq.containsKey(name)) {\n",
    "    freq.put(name, freq.get(name) + qty);\n",
    "  }\n",
    "  else {\n",
    "    freq.put(name, qty);\n",
    "  }\n",
    "\n",
    "  if (freq.get(name) > maxQty) {\n",
    "    maxQty = freq.get(name);\n",
    "    maxName = name;\n",
    "  }\n",
    "}\n",
    "\n",
    "System.out.println(maxName);\n",
    "System.out.println(maxQty);"
   ]
  },
  {
   "cell_type": "code",
   "execution_count": null,
   "id": "2daafe2c",
   "metadata": {
    "vscode": {
     "languageId": "java"
    }
   },
   "outputs": [
    {
     "name": "stdout",
     "output_type": "stream",
     "text": [
      "10\n",
      "70\n",
      "100\n"
     ]
    }
   ],
   "source": [
    "for (String key : freq.keySet()) {\n",
    "  System.out.println(freq.get(key));\n",
    "}"
   ]
  },
  {
   "cell_type": "code",
   "execution_count": 99,
   "id": "ff768882",
   "metadata": {
    "vscode": {
     "languageId": "java"
    }
   },
   "outputs": [
    {
     "name": "stdout",
     "output_type": "stream",
     "text": [
      "10\n",
      "70\n",
      "100\n"
     ]
    }
   ],
   "source": [
    "for (int value : freq.values()) {\n",
    "  System.out.println(value);\n",
    "}"
   ]
  },
  {
   "cell_type": "code",
   "execution_count": 103,
   "id": "da9b5de0",
   "metadata": {
    "vscode": {
     "languageId": "java"
    }
   },
   "outputs": [
    {
     "name": "stdout",
     "output_type": "stream",
     "text": [
      "banana 10\n",
      "apple 70\n",
      "kiwi 100\n"
     ]
    }
   ],
   "source": [
    "for (Map.Entry<String, Integer> entry : freq.entrySet()) {\n",
    "  String key = entry.getKey();\n",
    "  int value = entry.getValue();\n",
    "  System.out.println(key + \" \" + value);\n",
    "}"
   ]
  },
  {
   "cell_type": "code",
   "execution_count": 104,
   "id": "b19550d5",
   "metadata": {
    "vscode": {
     "languageId": "java"
    }
   },
   "outputs": [
    {
     "data": {
      "text/plain": [
       "true"
      ]
     },
     "execution_count": 104,
     "metadata": {},
     "output_type": "execute_result"
    }
   ],
   "source": [
    "freq instanceof Map"
   ]
  }
 ],
 "metadata": {
  "kernelspec": {
   "display_name": "Java",
   "language": "java",
   "name": "java"
  },
  "language_info": {
   "codemirror_mode": "java",
   "file_extension": ".jshell",
   "mimetype": "text/x-java-source",
   "name": "Java",
   "pygments_lexer": "java",
   "version": "21.0.7+8-LTS-245"
  }
 },
 "nbformat": 4,
 "nbformat_minor": 5
}
