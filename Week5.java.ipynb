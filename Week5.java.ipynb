{
 "cells": [
  {
   "cell_type": "code",
   "execution_count": 4,
   "id": "697874f5",
   "metadata": {
    "vscode": {
     "languageId": "java"
    }
   },
   "outputs": [],
   "source": [
    "class Animal {}\n",
    "class Human extends Animal {}\n",
    "class Employee extends Human {}\n",
    "\n",
    "class Util<T extends Human> {\n",
    "  void test(List<T> list) {\n",
    "  }\n",
    "}\n",
    "\n",
    "new Util().test(new ArrayList<Animal>());"
   ]
  },
  {
   "cell_type": "code",
   "execution_count": 5,
   "id": "feaa3830",
   "metadata": {
    "vscode": {
     "languageId": "java"
    }
   },
   "outputs": [],
   "source": [
    "List<?> list = new ArrayList<>();"
   ]
  },
  {
   "cell_type": "code",
   "execution_count": 7,
   "id": "2348c270",
   "metadata": {
    "vscode": {
     "languageId": "java"
    }
   },
   "outputs": [],
   "source": [
    "class Util {\n",
    "    public static <T> void print(T item) {\n",
    "        System.out.println(item);\n",
    "    }\n",
    "}"
   ]
  },
  {
   "cell_type": "code",
   "execution_count": 30,
   "id": "08505391",
   "metadata": {
    "vscode": {
     "languageId": "java"
    }
   },
   "outputs": [
    {
     "data": {
      "text/plain": [
       "10"
      ]
     },
     "execution_count": 30,
     "metadata": {},
     "output_type": "execute_result"
    }
   ],
   "source": [
    "class Animal {}\n",
    "class Human extends Animal {}\n",
    "class Employee extends Human {}\n",
    "\n",
    "class Box<T> {\n",
    "  T item;\n",
    "\n",
    "  T get() {\n",
    "    return item;\n",
    "  }\n",
    "\n",
    "  void set(T item) {\n",
    "    // T[] array = new T[5]; generic array creation NOT ALLOWED\n",
    "    // System.out.println(array.length);\n",
    "    this.item = item;\n",
    "  }\n",
    "}\n",
    "\n",
    "Box<Integer> box = new Box();\n",
    "box.set(10);\n",
    "box.get();"
   ]
  },
  {
   "cell_type": "code",
   "execution_count": 55,
   "id": "df62984f",
   "metadata": {
    "vscode": {
     "languageId": "java"
    }
   },
   "outputs": [],
   "source": [
    "class Animal<T> {}\n",
    "class Human extends Animal {}\n",
    "class Employee extends Human {}\n",
    "\n",
    "class Util {\n",
    "  <T> void test(Animal<T> item) {}\n",
    "}"
   ]
  },
  {
   "cell_type": "code",
   "execution_count": 56,
   "id": "86fe4245",
   "metadata": {
    "vscode": {
     "languageId": "java"
    }
   },
   "outputs": [],
   "source": [
    "class Animal<T> {}\n",
    "\n",
    "Animal<? extends Human> animal = new Animal<>();"
   ]
  },
  {
   "cell_type": "code",
   "execution_count": null,
   "id": "16c180e7",
   "metadata": {
    "vscode": {
     "languageId": "java"
    }
   },
   "outputs": [],
   "source": [
    "class Box {\n",
    "    Object value;\n",
    "    void set(Object val) { value = val; }\n",
    "    Object get() { return value; }\n",
    "}"
   ]
  },
  {
   "cell_type": "code",
   "execution_count": 74,
   "id": "4b6b72e2",
   "metadata": {
    "vscode": {
     "languageId": "java"
    }
   },
   "outputs": [],
   "source": [
    "class Util {\n",
    "  static <T> void test(T item) {}\n",
    "}\n",
    "\n",
    "// Util.test(\"Star\")"
   ]
  },
  {
   "cell_type": "code",
   "execution_count": 77,
   "id": "7dd22192",
   "metadata": {
    "vscode": {
     "languageId": "java"
    }
   },
   "outputs": [],
   "source": [
    "class Friend {\n",
    "  static Friend forName(String name) {\n",
    "    return new Friend();\n",
    "  }\n",
    "}\n",
    "\n",
    "String friendName = \"vidu\";\n",
    "Friend friend = Friend.forName(\"vidu\");"
   ]
  },
  {
   "cell_type": "code",
   "execution_count": 80,
   "id": "34a3d328",
   "metadata": {
    "vscode": {
     "languageId": "java"
    }
   },
   "outputs": [
    {
     "data": {
      "text/plain": [
       "true"
      ]
     },
     "execution_count": 80,
     "metadata": {},
     "output_type": "execute_result"
    }
   ],
   "source": [
    "String favKlassName = \"java.util.ArrayList\";\n",
    "Class favKlass = Class.forName(favKlassName);\n",
    "Class favKlass2 = ArrayList.class;\n",
    "\n",
    "favKlass == favKlass2;"
   ]
  },
  {
   "cell_type": "code",
   "execution_count": 90,
   "id": "5cfcd71f",
   "metadata": {
    "vscode": {
     "languageId": "java"
    }
   },
   "outputs": [
    {
     "name": "stdout",
     "output_type": "stream",
     "text": [
      "class java.lang.String\n",
      "class java.lang.String\n",
      "class java.lang.String\n"
     ]
    }
   ],
   "source": [
    "// how to get a \"class\"\n",
    "\n",
    "System.out.println(Class.forName(\"java.lang.String\")); // by name\n",
    "System.out.println(String.class); // by class\n",
    "System.out.println(\"rahul\".getClass()); // by instance"
   ]
  },
  {
   "cell_type": "code",
   "execution_count": 130,
   "id": "57b8cbf1",
   "metadata": {
    "vscode": {
     "languageId": "java"
    }
   },
   "outputs": [
    {
     "name": "stdout",
     "output_type": "stream",
     "text": [
      "REPL.$JShell$110E$Person\n",
      "Person\n",
      "package REPL\n",
      "false\n",
      "REPL.$JShell$110E$Person(java.lang.String)\n",
      "REPL.$JShell$110E$Person(java.lang.String,int)\n"
     ]
    }
   ],
   "source": [
    "// how to get \"info\" about a class\n",
    "\n",
    "import java.lang.reflect.Constructor;\n",
    "\n",
    "class Person {\n",
    "  Person(String name) {}\n",
    "  Person(String name, int age) {}\n",
    "}\n",
    "\n",
    "Class bestKlass = Person.class;\n",
    "\n",
    "System.out.println(bestKlass.getName());\n",
    "System.out.println(bestKlass.getSimpleName());\n",
    "System.out.println(bestKlass.getPackage());\n",
    "System.out.println(bestKlass.isInterface());\n",
    "\n",
    "Constructor<Person>[] cstrs = bestKlass.getDeclaredConstructors();\n",
    "for (Constructor<Person> cst : cstrs) {\n",
    "  System.out.println(cst);\n",
    "}"
   ]
  },
  {
   "cell_type": "code",
   "execution_count": 133,
   "id": "61e038f9",
   "metadata": {
    "vscode": {
     "languageId": "java"
    }
   },
   "outputs": [],
   "source": [
    "Constructor<Person> cst = cstrs[0];\n",
    "Constructor<Person> cst2 = cstrs[1];\n",
    "\n",
    "Person vidu = cst.newInstance(\"vidu\");\n",
    "Person rahul = cst2.newInstance(\"rahul\", 22);"
   ]
  },
  {
   "cell_type": "code",
   "execution_count": 6,
   "id": "c1316cca",
   "metadata": {
    "vscode": {
     "languageId": "java"
    }
   },
   "outputs": [],
   "source": [
    "interface Fast {}\n",
    "interface Human {}\n",
    "\n",
    "class Box<T extends Fast & Human> {\n",
    "\n",
    "}\n",
    "\n",
    "class Indian implements Fast, Human {}\n",
    "\n",
    "Box<Indian> box = new Box<>();"
   ]
  },
  {
   "cell_type": "code",
   "execution_count": 7,
   "id": "7a23e23b",
   "metadata": {
    "vscode": {
     "languageId": "java"
    }
   },
   "outputs": [],
   "source": [
    "\n",
    "import java.util.logging.*;\n",
    "\n",
    "public class SomeClass {\n",
    "      public void logIt(){\n",
    "            Logger.getGlobal().info(\"First message\");\n",
    "      }\n",
    "}\n",
    "\n",
    "\n",
    "            SomeClass obj = new SomeClass();\n",
    "            obj.logIt();\n",
    "            Logger.getGlobal().log(Level.FINE, \"second message\");\n",
    "            Logger.getGlobal().setLevel(Level.OFF);\n",
    "            try {\n",
    "                 throw new ArithmeticException();\n",
    "            }\n",
    "            catch(Exception e) {\n",
    "                  Logger.getGlobal().log(Level.SEVERE, \"third message\");\n",
    "            }\n",
    "      \n"
   ]
  },
  {
   "cell_type": "code",
   "execution_count": 8,
   "id": "aadcc7df",
   "metadata": {
    "vscode": {
     "languageId": "java"
    }
   },
   "outputs": [],
   "source": [
    "import java.util.logging.*;\n",
    "\n",
    "public class SomeClass {\n",
    "      public void logIt(){\n",
    "            Logger.getGlobal().info(\"First message\");\n",
    "      }\n",
    "}\n",
    "\n",
    "public class FClass {\n",
    "      public static void main(String[] args){\n",
    "            SomeClass obj = new SomeClass();\n",
    "            obj.logIt();\n",
    "            Logger.getGlobal().log(Level.FINE, \"second message\");\n",
    "            Logger.getGlobal().setLevel(Level.OFF);\n",
    "            try {\n",
    "                 throw new ArithmeticException();\n",
    "            }\n",
    "            catch(Exception e) {\n",
    "                  Logger.getGlobal().log(Level.SEVERE, \"third message\");\n",
    "            }\n",
    "      }\n",
    "}\n",
    "\n",
    "FClass.main(new String[5])"
   ]
  }
 ],
 "metadata": {
  "kernelspec": {
   "display_name": "Java",
   "language": "java",
   "name": "java"
  },
  "language_info": {
   "codemirror_mode": "java",
   "file_extension": ".jshell",
   "mimetype": "text/x-java-source",
   "name": "Java",
   "pygments_lexer": "java",
   "version": "21.0.7+8-LTS-245"
  }
 },
 "nbformat": 4,
 "nbformat_minor": 5
}
