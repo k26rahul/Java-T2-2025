{
 "cells": [
  {
   "cell_type": "code",
   "execution_count": 9,
   "id": "cda99708",
   "metadata": {},
   "outputs": [
    {
     "name": "stdout",
     "output_type": "stream",
     "text": [
      "Hello\n",
      "10\n"
     ]
    }
   ],
   "source": [
    "List list = new ArrayList();\n",
    "list.add(\"Hello\");\n",
    "list.add(10);\n",
    "\n",
    "String msg = (String) list.get(0);\n",
    "System.out.println(msg);\n",
    "\n",
    "int num = (int) list.get(1);\n",
    "System.out.println(num);"
   ]
  },
  {
   "cell_type": "code",
   "execution_count": 19,
   "id": "50c43cec",
   "metadata": {},
   "outputs": [
    {
     "name": "stdout",
     "output_type": "stream",
     "text": [
      "Hello\n"
     ]
    }
   ],
   "source": [
    "List<String> list = new ArrayList();\n",
    "list.add(\"Hello\");\n",
    "// list.add(10); // incompatible\n",
    "\n",
    "String msg = list.get(0);\n",
    "System.out.println(msg);"
   ]
  },
  {
   "cell_type": "code",
   "execution_count": 7,
   "id": "a8993f96",
   "metadata": {},
   "outputs": [],
   "source": [
    "class Box {\n",
    "  private int item;\n",
    "\n",
    "  int getItem() {\n",
    "    return item;\n",
    "  }\n",
    "\n",
    "  void setItem(int item) {\n",
    "    this.item = item;\n",
    "  }\n",
    "}\n",
    "\n",
    "Box box = new Box();\n",
    "box.setItem(10);\n",
    "// box.setItem(\"Star\"); // incompatible"
   ]
  },
  {
   "cell_type": "code",
   "execution_count": 10,
   "id": "60e28c59",
   "metadata": {},
   "outputs": [],
   "source": [
    "class IntBox {\n",
    "  private int item;\n",
    "\n",
    "  int getItem() {\n",
    "    return item;\n",
    "  }\n",
    "\n",
    "  void setItem(int item) {\n",
    "    this.item = item;\n",
    "  }\n",
    "}\n",
    "\n",
    "class StringBox {\n",
    "  private String item;\n",
    "\n",
    "  String getItem() {\n",
    "    return item;\n",
    "  }\n",
    "\n",
    "  void setItem(String item) {\n",
    "    this.item = item;\n",
    "  }\n",
    "}\n",
    "\n",
    "IntBox intBox = new IntBox();\n",
    "intBox.setItem(10);\n",
    "\n",
    "StringBox stringBox = new StringBox();\n",
    "stringBox.setItem(\"Star\");"
   ]
  },
  {
   "cell_type": "code",
   "execution_count": 15,
   "id": "249e57eb",
   "metadata": {},
   "outputs": [],
   "source": [
    "class Box<T> {\n",
    "  private T item;\n",
    "\n",
    "  T getItem() {\n",
    "    return item;\n",
    "  }\n",
    "\n",
    "  void setItem(T item) {\n",
    "    this.item = item;\n",
    "  }\n",
    "}\n",
    "\n",
    "Box<Integer> box1 = new Box();\n",
    "box1.setItem(10);\n",
    "\n",
    "Box<String> box2 = new Box();\n",
    "box2.setItem(\"Star\");\n",
    "// box2.setItem(20); // incompatible "
   ]
  },
  {
   "cell_type": "code",
   "execution_count": null,
   "id": "08b715b6",
   "metadata": {},
   "outputs": [
    {
     "name": "stdout",
     "output_type": "stream",
     "text": [
      "hello 10\n",
      "hello Vidu\n",
      "hello [I@36982491\n"
     ]
    }
   ],
   "source": [
    "class Util {\n",
    "  static <T> void sayHello(T item) {\n",
    "    System.out.println(\"hello \" + item);\n",
    "  }\n",
    "}\n",
    "\n",
    "Util.sayHello(10);\n",
    "Util.sayHello(\"Vidu\");\n",
    "Util.sayHello(new int[]{10, 20, 30});"
   ]
  },
  {
   "cell_type": "code",
   "execution_count": 40,
   "id": "782ace97",
   "metadata": {},
   "outputs": [
    {
     "name": "stdout",
     "output_type": "stream",
     "text": [
      "item is: 10\n",
      "item is: 20\n",
      "item is: 30\n"
     ]
    }
   ],
   "source": [
    "class Util {\n",
    "  static void printArray(int[] array) {\n",
    "    for (int item : array) {\n",
    "      System.out.println(\"item is: \" + item);\n",
    "    }\n",
    "  }\n",
    "}\n",
    "\n",
    "Util.printArray(new int[]{10, 20, 30});\n",
    "// Util.printArray(new String[]{\"apple\", \"banana\", \"kiwi\"}); // incompatible"
   ]
  },
  {
   "cell_type": "code",
   "execution_count": 46,
   "id": "eabc9385",
   "metadata": {},
   "outputs": [
    {
     "name": "stdout",
     "output_type": "stream",
     "text": [
      "item is: 10\n",
      "item is: 20\n",
      "item is: 30\n"
     ]
    },
    {
     "name": "stdout",
     "output_type": "stream",
     "text": [
      "item is: apple\n",
      "item is: banana\n",
      "item is: kiwi\n"
     ]
    }
   ],
   "source": [
    "class Util {\n",
    "  static <T> void printArray(T[] array) {\n",
    "    for (T item : array) {\n",
    "      System.out.println(\"item is: \" + item);\n",
    "    }\n",
    "  }\n",
    "}\n",
    "\n",
    "// Util.printArray(new int[]{10, 20, 30}); // use `Integer`, not `int`\n",
    "Util.printArray(new Integer[]{10, 20, 30});\n",
    "Util.printArray(new String[]{\"apple\", \"banana\", \"kiwi\"});"
   ]
  },
  {
   "cell_type": "code",
   "execution_count": 53,
   "id": "4c8e2f1e",
   "metadata": {},
   "outputs": [
    {
     "name": "stdout",
     "output_type": "stream",
     "text": [
      "item is: 10\n",
      "item is: 20\n",
      "item is: 30\n",
      "item is: 1.6\n",
      "item is: 1.7\n",
      "item is: 1.8\n"
     ]
    }
   ],
   "source": [
    "class Util {\n",
    "  static <T extends Number> void printArray(T[] array) {\n",
    "    for (T item : array) {\n",
    "      System.out.println(\"item is: \" + item);\n",
    "    }\n",
    "  }\n",
    "}\n",
    "\n",
    "Util.printArray(new Integer[]{10, 20, 30});\n",
    "Util.printArray(new Double[]{1.6, 1.7, 1.8});\n",
    "// Util.printArray(new String[]{\"apple\", \"banana\", \"kiwi\"}); // incompatible"
   ]
  },
  {
   "cell_type": "code",
   "execution_count": 63,
   "id": "94495a35",
   "metadata": {},
   "outputs": [
    {
     "data": {
      "text/plain": [
       "10"
      ]
     },
     "execution_count": 63,
     "metadata": {},
     "output_type": "execute_result"
    }
   ],
   "source": [
    "List<Integer> list = new ArrayList();\n",
    "\n",
    "list.add(10);\n",
    "list.add(20);\n",
    "// list.add(\"Star\");\n",
    "\n",
    "list.get(0);"
   ]
  },
  {
   "cell_type": "code",
   "execution_count": 68,
   "id": "4e2bc776",
   "metadata": {},
   "outputs": [
    {
     "name": "stdout",
     "output_type": "stream",
     "text": [
      "item is: 10\n",
      "item is: 20\n"
     ]
    }
   ],
   "source": [
    "class Util {\n",
    "  static void printList(List<Integer> list) {\n",
    "    for (int item : list) {\n",
    "      System.out.println(\"item is: \" + item);\n",
    "    }\n",
    "  }\n",
    "}\n",
    "\n",
    "List<Integer> list = new ArrayList();\n",
    "list.add(10);\n",
    "list.add(20);\n",
    "Util.printList(list);\n",
    "\n",
    "// List<String> list = new ArrayList();\n",
    "// list.add(\"Star\");\n",
    "// list.add(\"Vidu\");\n",
    "// Util.printList(list);"
   ]
  },
  {
   "cell_type": "code",
   "execution_count": 70,
   "id": "7cff9fbb",
   "metadata": {},
   "outputs": [
    {
     "name": "stdout",
     "output_type": "stream",
     "text": [
      "item is: 10\n",
      "item is: 20\n",
      "item is: Star\n",
      "item is: Vidu\n"
     ]
    }
   ],
   "source": [
    "class Util {\n",
    "  static <T> void printList(List<T> list) {\n",
    "    for (T item : list) {\n",
    "      System.out.println(\"item is: \" + item);\n",
    "    }\n",
    "  }\n",
    "}\n",
    "\n",
    "List<Integer> list = new ArrayList();\n",
    "list.add(10);\n",
    "list.add(20);\n",
    "Util.printList(list);\n",
    "\n",
    "List<String> list = new ArrayList();\n",
    "list.add(\"Star\");\n",
    "list.add(\"Vidu\");\n",
    "Util.printList(list);"
   ]
  },
  {
   "cell_type": "code",
   "execution_count": null,
   "id": "df9be28c",
   "metadata": {},
   "outputs": [
    {
     "ename": "CompilationException",
     "evalue": "",
     "output_type": "error",
     "traceback": [
      "\u001b[1m\u001b[30m|   \u001b[1m\u001b[30m    list.add(\u001b[0m\u001b[1m\u001b[30m\u001b[41m\"OMG\"\u001b[0m\u001b[1m\u001b[30m);\u001b[0m",
      "\u001b[1m\u001b[31mincompatible types: java.lang.String cannot be converted to capture#1 of ?\u001b[0m",
      ""
     ]
    }
   ],
   "source": [
    "class Util {\n",
    "  static void printList(List<?> list) {\n",
    "    for (Object item : list) {\n",
    "      System.out.println(\"item is: \" + item);\n",
    "    }\n",
    "    // list.add(\"OMG\"); // Read-only\n",
    "  }\n",
    "}\n",
    "\n",
    "List<Integer> list = new ArrayList();\n",
    "list.add(10);\n",
    "list.add(20);\n",
    "Util.printList(list);\n",
    "\n",
    "List<String> list = new ArrayList();\n",
    "list.add(\"Star\");\n",
    "list.add(\"Vidu\");\n",
    "Util.printList(list);"
   ]
  },
  {
   "cell_type": "code",
   "execution_count": 78,
   "id": "50d1af1b",
   "metadata": {},
   "outputs": [
    {
     "data": {
      "text/plain": [
       "[pi, ki, yi]"
      ]
     },
     "execution_count": 78,
     "metadata": {},
     "output_type": "execute_result"
    }
   ],
   "source": [
    "abstract class Parent<F, M> {\n",
    "  abstract F getFather();\n",
    "  abstract M getMother();\n",
    "}\n",
    "\n",
    "class IndianParent extends Parent<String, String> {\n",
    "  String getMother() {\n",
    "    return \"amma\";\n",
    "  }\n",
    "\n",
    "  String getFather() {\n",
    "    return \"appa\";\n",
    "  }\n",
    "}\n",
    "\n",
    "class AlienParent extends Parent<String[], String[]> {\n",
    "  String[] getMother() {\n",
    "    return new String[]{\"pi\", \"ki\", \"yi\"};\n",
    "  }\n",
    "\n",
    "  String[] getFather() {\n",
    "    return new String[]{\"bo\", \"lo\", \"to\"};\n",
    "  }\n",
    "}\n",
    "\n",
    "Arrays.toString(new AlienParent().getMother());"
   ]
  }
 ],
 "metadata": {
  "kernelspec": {
   "display_name": "Java",
   "language": "java",
   "name": "java"
  },
  "language_info": {
   "codemirror_mode": "java",
   "file_extension": ".jshell",
   "mimetype": "text/x-java-source",
   "name": "java",
   "pygments_lexer": "java",
   "version": "21.0.7+8-LTS-245"
  }
 },
 "nbformat": 4,
 "nbformat_minor": 5
}
